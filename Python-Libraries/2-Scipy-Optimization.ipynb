{
 "cells": [
  {
   "cell_type": "code",
   "execution_count": null,
   "metadata": {},
   "outputs": [],
   "source": [
    "import scipy as sp\n",
    "import numpy as np\n",
    "import matplotlib.pyplot as plt"
   ]
  },
  {
   "attachments": {},
   "cell_type": "markdown",
   "metadata": {},
   "source": [
    "1-Minimize the f(x) = (x-3)^2."
   ]
  },
  {
   "cell_type": "code",
   "execution_count": null,
   "metadata": {},
   "outputs": [],
   "source": [
    "from scipy.optimize import minimize\n",
    "\n",
    "def f(x):\n",
    "    return (x - 3) ** 2\n",
    "result = minimize(f, 2)\n",
    "print(result)\n"
   ]
  },
  {
   "attachments": {},
   "cell_type": "markdown",
   "metadata": {},
   "source": [
    "2-Minimize f(x,y) = (x-1)^2 + (y-2.5)^2 with Constraints."
   ]
  },
  {
   "cell_type": "code",
   "execution_count": null,
   "metadata": {},
   "outputs": [],
   "source": [
    "from scipy.optimize import minimize\n",
    "f = lambda x: (x[0]-1)**2 + (x[1]-2.5)**2\n",
    "#f([1,2])\n",
    "cons = ({'type' : 'ineq' , 'fun' : lambda x:x[0] - 2*x[1] +2} , \n",
    "        {'type' : 'ineq' , 'fun' : lambda x:-x[0] - 2*x[1] +6} ,\n",
    "        {'type' : 'ineq' , 'fun' : lambda x: -x[0] + 2*x[1] +2}\n",
    "        )\n",
    "bnds = ((0 , None) , (0 , None))\n",
    "res = minimize(f , (2,0) , bounds=bnds , constraints=cons)\n",
    "print(res)"
   ]
  }
 ],
 "metadata": {
  "kernelspec": {
   "display_name": "Python 3",
   "language": "python",
   "name": "python3"
  },
  "language_info": {
   "codemirror_mode": {
    "name": "ipython",
    "version": 3
   },
   "file_extension": ".py",
   "mimetype": "text/x-python",
   "name": "python",
   "nbconvert_exporter": "python",
   "pygments_lexer": "ipython3",
   "version": "3.11.4 (v3.11.4:d2340ef257, Jun  6 2023, 19:15:51) [Clang 13.0.0 (clang-1300.0.29.30)]"
  },
  "orig_nbformat": 4,
  "vscode": {
   "interpreter": {
    "hash": "aee8b7b246df8f9039afb4144a1f6fd8d2ca17a180786b69acc140d282b71a49"
   }
  }
 },
 "nbformat": 4,
 "nbformat_minor": 2
}
