{
 "cells": [
  {
   "attachments": {},
   "cell_type": "markdown",
   "metadata": {},
   "source": [
    "This is to fit ax^b"
   ]
  },
  {
   "cell_type": "code",
   "execution_count": 2,
   "metadata": {},
   "outputs": [
    {
     "name": "stdout",
     "output_type": "stream",
     "text": [
      "Enter data:\n",
      "\n",
      "Coefficients are:\n",
      "a:  16.643985964324393\n",
      "b:  0.1837537709576516\n"
     ]
    }
   ],
   "source": [
    "\n",
    "\n",
    "# This is naive approach, there are shortcut methods for doing it!\n",
    "# Least square method\n",
    "# Fitting y = ax^b to given n data points\n",
    "import numpy as np\n",
    "\n",
    "# Reading value of n\n",
    "n = int(input(\"How many data points? \"))\n",
    "\n",
    "# Creating numpy array x & y to store n data points\n",
    "x = np.zeros(n)\n",
    "y = np.zeros(n)\n",
    "\n",
    "# Reading data\n",
    "print(\"Enter data:\")\n",
    "for i in range(n):\n",
    "    x[i] = float(input(\"x[\"+str(i)+\"]= \"))\n",
    "    y[i] = float(input(\"y[\"+str(i)+\"]= \"))\n",
    "    \n",
    "# Finding required sum for least square methods\n",
    "sumX,sumX2,sumY,sumXY = 0,0,0,0\n",
    "for i in range(n):\n",
    "    sumX = sumX + np.log(x[i])\n",
    "    sumX2 = sumX2 +np.log(x[i])*np.log(x[i])\n",
    "    sumY = sumY + np.log(y[i])\n",
    "    sumXY = sumXY + np.log(x[i])*np.log(y[i])\n",
    "\n",
    "# Finding coefficients A and B\n",
    "b = (n*sumXY-sumX*sumY)/(n*sumX2-sumX*sumX)\n",
    "A = (sumY - b*sumX)/n\n",
    "\n",
    "# Obtaining a and b\n",
    "a = np.exp(A)\n",
    "\n",
    "\n",
    "# Displaying coefficients a, b & equation\n",
    "print(\"\\nCoefficients are:\")\n",
    "print(\"a: \", a)\n",
    "print(\"b: \", b)\n"
   ]
  },
  {
   "attachments": {},
   "cell_type": "markdown",
   "metadata": {},
   "source": [
    "This is to fit ab^x"
   ]
  },
  {
   "cell_type": "code",
   "execution_count": null,
   "metadata": {},
   "outputs": [],
   "source": [
    "\n",
    "# This is naive approach, there are shortcut methods for doing it!\n",
    "# Least square method\n",
    "# Fitting y = ab^x to given n data points\n",
    "import numpy as np\n",
    "\n",
    "# Reading value of n\n",
    "n = int(input(\"How many data points? \"))\n",
    "\n",
    "# Creating numpy array x & y to store n data points\n",
    "x = np.zeros(n)\n",
    "y = np.zeros(n)\n",
    "\n",
    "# Reading data\n",
    "print(\"Enter data:\")\n",
    "for i in range(n):\n",
    "    x[i] = float(input(\"x[\"+str(i)+\"]= \"))\n",
    "    y[i] = float(input(\"y[\"+str(i)+\"]= \"))\n",
    "    \n",
    "# Finding required sum for least square methods\n",
    "sumX,sumX2,sumY,sumXY = 0,0,0,0\n",
    "for i in range(n):\n",
    "    sumX = sumX + x[i]\n",
    "    sumX2 = sumX2 +x[i]*x[i]\n",
    "    sumY = sumY + np.log(y[i])\n",
    "    sumXY = sumXY + x[i]*np.log(y[i])\n",
    "\n",
    "# Finding coefficients A and B\n",
    "B = (n*sumXY-sumX*sumY)/(n*sumX2-sumX*sumX)\n",
    "A = (sumY - B*sumX)/n\n",
    "\n",
    "# Obtaining a and b\n",
    "a = np.exp(A)\n",
    "b = np.exp(B)\n",
    "\n",
    "# Displaying coefficients a, b & equation\n",
    "print(\"\\nCoefficients are:\")\n",
    "print(\"a: \", a)\n",
    "print(\"b: \", b)"
   ]
  }
 ],
 "metadata": {
  "kernelspec": {
   "display_name": "Python 3",
   "language": "python",
   "name": "python3"
  },
  "language_info": {
   "codemirror_mode": {
    "name": "ipython",
    "version": 3
   },
   "file_extension": ".py",
   "mimetype": "text/x-python",
   "name": "python",
   "nbconvert_exporter": "python",
   "pygments_lexer": "ipython3",
   "version": "3.11.4"
  },
  "orig_nbformat": 4,
  "vscode": {
   "interpreter": {
    "hash": "aee8b7b246df8f9039afb4144a1f6fd8d2ca17a180786b69acc140d282b71a49"
   }
  }
 },
 "nbformat": 4,
 "nbformat_minor": 2
}
