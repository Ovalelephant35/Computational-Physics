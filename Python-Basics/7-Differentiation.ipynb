{
 "cells": [
  {
   "attachments": {},
   "cell_type": "markdown",
   "metadata": {},
   "source": [
    "General"
   ]
  },
  {
   "cell_type": "code",
   "execution_count": 5,
   "metadata": {},
   "outputs": [
    {
     "name": "stdout",
     "output_type": "stream",
     "text": [
      "5.0*Integral(exp(-y**2)*Integral(1/((1.0*x**2 + 0.5*x*z + 1.0)**0.48*(x**2 - 10*x + y**2 - 10*y + z**2 - 10*z + 75)**0.5), (x, -1, 1)), (y, -1, 1), (z, -1, 1))\n"
     ]
    }
   ],
   "source": [
    "import sympy as sp\n",
    "\n",
    "# Define the symbolic variables\n",
    "x, y, z = sp.symbols('x y z')\n",
    "\n",
    "# Define the function to be integrated\n",
    "f = 5 * (sp.exp(-y**2)) * ((x**2) + 0.5*x*z + 1)**(-0.48) / (((x-5)**2 + (y-5)**2 + (z-5)**2)**0.5)\n",
    "\n",
    "# Define the integration limits\n",
    "x_limits = (-1, 1)  # Integration limits for x\n",
    "y_limits = (-1, 1)  # Integration limits for y\n",
    "z_limits = (-1, 1)  # Integration limits for z\n",
    "\n",
    "# Perform the triple integral\n",
    "result = sp.integrate(f, (x, *x_limits), (y, *y_limits), (z, *z_limits))\n",
    "print(result)\n"
   ]
  },
  {
   "cell_type": "code",
   "execution_count": 9,
   "metadata": {},
   "outputs": [
    {
     "name": "stdout",
     "output_type": "stream",
     "text": [
      "Average Velocity: 1.73\n",
      "Average Acceleration: -8.41\n"
     ]
    }
   ],
   "source": [
    "import numpy as np\n",
    "\n",
    "# Given data\n",
    "x_d = np.array([0, .1, .2, .3, .4, .5, .6, .7, .8, .9, 1])\n",
    "y_d = np.array([1.7, 1.8, 2.4, 2.7, 2.1, 2.4, 1.9, 1.6, 1.8, 1.1, 0.2])\n",
    "\n",
    "# Calculate time from x_d data (assuming evenly spaced time intervals)\n",
    "time = x_d\n",
    "\n",
    "# Calculate velocity (speed)\n",
    "velocity = np.gradient(y_d, time)  # Calculate the derivative of position with respect to time\n",
    "\n",
    "# Calculate acceleration\n",
    "acceleration = np.gradient(velocity, time)  # Calculate the derivative of velocity with respect to time\n",
    "\n",
    "# Calculate the average velocity and acceleration\n",
    "avg_velocity = np.mean(velocity)\n",
    "avg_acceleration = np.mean(acceleration)\n",
    "\n",
    "# Print the results\n",
    "print(f\"Average Velocity: {avg_velocity*(-1):.2f}\")\n",
    "print(f\"Average Acceleration: {avg_acceleration:.2f}\")\n",
    "\n"
   ]
  },
  {
   "cell_type": "code",
   "execution_count": 3,
   "metadata": {},
   "outputs": [
    {
     "name": "stdout",
     "output_type": "stream",
     "text": [
      "135.4166666666665\n"
     ]
    }
   ],
   "source": [
    "import numpy as np\n",
    "from scipy.integrate import quad\n",
    "\n",
    "# Define the function to be integrated\n",
    "def f(x, y, z):\n",
    "    return \n",
    "\n",
    "# Define the integration limits\n",
    "x_limits = (0, 1)  # Integration limits for x\n",
    "y_limits = (0, 1)  # Integration limits for y\n",
    "z_limits = (0, 1)  # Integration limits for z\n",
    "\n",
    "# Define the number of quadrature points (nodes) for each dimension\n",
    "n_points = 5\n",
    "\n",
    "# Perform the triple integral using Gaussian quadrature\n",
    "result = 0.0\n",
    "for x_node in np.linspace(*x_limits, n_points):\n",
    "    for y_node in np.linspace(*y_limits, n_points):\n",
    "        for z_node in np.linspace(*z_limits, n_points):\n",
    "            integral_x = quad(lambda x: f(x, y_node, z_node), *x_limits)[0]\n",
    "            integral_xy = quad(lambda y: integral_x, *y_limits)[0]\n",
    "            integral_xyz = quad(lambda z: integral_xy, *z_limits)[0]\n",
    "            result += integral_xyz\n",
    "\n",
    "print(result)\n"
   ]
  },
  {
   "cell_type": "code",
   "execution_count": 8,
   "metadata": {},
   "outputs": [
    {
     "name": "stdout",
     "output_type": "stream",
     "text": [
      "The symbolic derivative of f(x) is: exp(x)*sin(x)/cos(x)**2 + exp(x)/cos(x)\n"
     ]
    }
   ],
   "source": [
    "import numpy as np\n",
    "import sympy as sp\n",
    "\n",
    "# Define a symbolic variable\n",
    "x = sp.symbols('x')\n",
    "\n",
    "# Define a function (e.g., f(x) = x^2)\n",
    "f = sp.exp(x)/sp.cos(x)\n",
    "\n",
    "# Calculate the derivative symbolically\n",
    "derivative = sp.diff(f, x)\n",
    "\n",
    "print(f\"The symbolic derivative of f(x) is: {derivative}\")\n"
   ]
  },
  {
   "attachments": {},
   "cell_type": "markdown",
   "metadata": {},
   "source": [
    "At a given point"
   ]
  },
  {
   "cell_type": "code",
   "execution_count": 4,
   "metadata": {},
   "outputs": [
    {
     "name": "stdout",
     "output_type": "stream",
     "text": [
      "The derivative at x = 2.0 is 4.00000000000000\n"
     ]
    }
   ],
   "source": [
    "import sympy as sp\n",
    "\n",
    "# Define a symbolic variable\n",
    "x = sp.symbols('x')\n",
    "\n",
    "# Define a function (e.g., f(x) = x^2)\n",
    "f = x**2\n",
    "\n",
    "# Calculate the derivative symbolically\n",
    "derivative = sp.diff(f, x)\n",
    "\n",
    "# Define the point at which you want to evaluate the derivative\n",
    "x0 = 2.0\n",
    "\n",
    "# Calculate the derivative at x0\n",
    "derivative_at_x0 = derivative.subs(x, x0)\n",
    "\n",
    "print(f\"The derivative at x = {x0} is {derivative_at_x0}\")\n"
   ]
  },
  {
   "cell_type": "code",
   "execution_count": 10,
   "metadata": {},
   "outputs": [
    {
     "name": "stdout",
     "output_type": "stream",
     "text": [
      "Estimated Integral: 3.0700\n"
     ]
    }
   ],
   "source": [
    "import numpy as np\n",
    "\n",
    "# Define the number of random samples\n",
    "n_samples = 100000  # You can adjust this as needed for accuracy\n",
    "\n",
    "# Initialize variables to store the sum of function values and the count of points inside the integration volume\n",
    "sum_func_values = 0\n",
    "count_inside_volume = 0\n",
    "\n",
    "# Define the integration limits\n",
    "x_limits = (-1, 1)  # Integration limits for x\n",
    "y_limits = (-1, 1)  # Integration limits for y\n",
    "z_limits = (-1, 1)  # Integration limits for z\n",
    "\n",
    "# Define the function to be integrated\n",
    "def f(x, y, z):\n",
    "    return 5 * (np.exp(-y**2)) * ((x**2) + 0.5*x*z + 1)**(-0.48) / (((x-5)**2 + (y-5)**2 + (z-5)**2)**0.5)\n",
    "\n",
    "# Perform Monte Carlo integration\n",
    "for _ in range(n_samples):\n",
    "    x_random = np.random.uniform(*x_limits)\n",
    "    y_random = np.random.uniform(*y_limits)\n",
    "    z_random = np.random.uniform(*z_limits)\n",
    "\n",
    "    if x_limits[0] <= x_random <= x_limits[1] and \\\n",
    "       y_limits[0] <= y_random <= y_limits[1] and \\\n",
    "       z_limits[0] <= z_random <= z_limits[1]:\n",
    "        count_inside_volume += 1\n",
    "        sum_func_values += f(x_random, y_random, z_random)\n",
    "\n",
    "# Calculate the estimated integral value\n",
    "volume = (x_limits[1] - x_limits[0]) * (y_limits[1] - y_limits[0]) * (z_limits[1] - z_limits[0])\n",
    "estimated_integral = (volume / n_samples) * sum_func_values\n",
    "\n",
    "print(f\"Estimated Integral: {estimated_integral:.4f}\")\n"
   ]
  },
  {
   "cell_type": "code",
   "execution_count": 12,
   "metadata": {},
   "outputs": [
    {
     "name": "stdout",
     "output_type": "stream",
     "text": [
      "Estimated Integral: 2.9025\n"
     ]
    }
   ],
   "source": [
    "import numpy as np\n",
    "import scipy.integrate as spi\n",
    "\n",
    "# Define the function to be integrated\n",
    "def f(x, y, z):\n",
    "    return 5 * (np.exp(-y**2)) * ((x**2) + 0.5*x*z + 1)**(-0.48) / (((x-5)**2 + (y-5)**2 + (z-5)**2)**0.5)\n",
    "\n",
    "# Define the integration limits for each dimension\n",
    "x_limits = (-1, 1)\n",
    "y_limits = (-1, 1)\n",
    "z_limits = (-1, 1)\n",
    "\n",
    "# Define the number of quadrature points for each dimension\n",
    "n_points = 10  # You can adjust this for accuracy\n",
    "\n",
    "# Perform triple integration using nested Gaussian quadrature\n",
    "result = 0.0\n",
    "for x_node in np.linspace(*x_limits, n_points):\n",
    "    for y_node in np.linspace(*y_limits, n_points):\n",
    "        for z_node in np.linspace(*z_limits, n_points):\n",
    "            integral_x = spi.quad(lambda x: f(x, y_node, z_node), *x_limits)[0]\n",
    "            integral_xy = spi.quad(lambda y: integral_x, *y_limits)[0]\n",
    "            integral_xyz = spi.quad(lambda z: integral_xy, *z_limits)[0]\n",
    "            result += integral_xyz\n",
    "\n",
    "print(f\"Estimated Integral: {result/1000:.4f}\")\n"
   ]
  }
 ],
 "metadata": {
  "kernelspec": {
   "display_name": "Python 3",
   "language": "python",
   "name": "python3"
  },
  "language_info": {
   "codemirror_mode": {
    "name": "ipython",
    "version": 3
   },
   "file_extension": ".py",
   "mimetype": "text/x-python",
   "name": "python",
   "nbconvert_exporter": "python",
   "pygments_lexer": "ipython3",
   "version": "3.11.4"
  },
  "orig_nbformat": 4,
  "vscode": {
   "interpreter": {
    "hash": "aee8b7b246df8f9039afb4144a1f6fd8d2ca17a180786b69acc140d282b71a49"
   }
  }
 },
 "nbformat": 4,
 "nbformat_minor": 2
}
