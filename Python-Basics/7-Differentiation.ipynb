{
 "cells": [
  {
   "attachments": {},
   "cell_type": "markdown",
   "metadata": {},
   "source": [
    "General"
   ]
  },
  {
   "cell_type": "code",
   "execution_count": 8,
   "metadata": {},
   "outputs": [
    {
     "name": "stdout",
     "output_type": "stream",
     "text": [
      "The symbolic derivative of f(x) is: exp(x)*sin(x)/cos(x)**2 + exp(x)/cos(x)\n"
     ]
    }
   ],
   "source": [
    "import numpy as np\n",
    "import sympy as sp\n",
    "\n",
    "# Define a symbolic variable\n",
    "x = sp.symbols('x')\n",
    "\n",
    "# Define a function (e.g., f(x) = x^2)\n",
    "f = sp.exp(x)/sp.cos(x)\n",
    "\n",
    "# Calculate the derivative symbolically\n",
    "derivative = sp.diff(f, x)\n",
    "\n",
    "print(f\"The symbolic derivative of f(x) is: {derivative}\")\n"
   ]
  },
  {
   "attachments": {},
   "cell_type": "markdown",
   "metadata": {},
   "source": [
    "At a given point"
   ]
  },
  {
   "cell_type": "code",
   "execution_count": 4,
   "metadata": {},
   "outputs": [
    {
     "name": "stdout",
     "output_type": "stream",
     "text": [
      "The derivative at x = 2.0 is 4.00000000000000\n"
     ]
    }
   ],
   "source": [
    "import sympy as sp\n",
    "\n",
    "# Define a symbolic variable\n",
    "x = sp.symbols('x')\n",
    "\n",
    "# Define a function (e.g., f(x) = x^2)\n",
    "f = x**2\n",
    "\n",
    "# Calculate the derivative symbolically\n",
    "derivative = sp.diff(f, x)\n",
    "\n",
    "# Define the point at which you want to evaluate the derivative\n",
    "x0 = 2.0\n",
    "\n",
    "# Calculate the derivative at x0\n",
    "derivative_at_x0 = derivative.subs(x, x0)\n",
    "\n",
    "print(f\"The derivative at x = {x0} is {derivative_at_x0}\")\n"
   ]
  }
 ],
 "metadata": {
  "kernelspec": {
   "display_name": "Python 3",
   "language": "python",
   "name": "python3"
  },
  "language_info": {
   "codemirror_mode": {
    "name": "ipython",
    "version": 3
   },
   "file_extension": ".py",
   "mimetype": "text/x-python",
   "name": "python",
   "nbconvert_exporter": "python",
   "pygments_lexer": "ipython3",
   "version": "3.11.4 (v3.11.4:d2340ef257, Jun  6 2023, 19:15:51) [Clang 13.0.0 (clang-1300.0.29.30)]"
  },
  "orig_nbformat": 4,
  "vscode": {
   "interpreter": {
    "hash": "aee8b7b246df8f9039afb4144a1f6fd8d2ca17a180786b69acc140d282b71a49"
   }
  }
 },
 "nbformat": 4,
 "nbformat_minor": 2
}
