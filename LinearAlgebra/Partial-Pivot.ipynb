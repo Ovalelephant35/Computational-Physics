{
 "cells": [
  {
   "cell_type": "code",
   "execution_count": 1,
   "metadata": {},
   "outputs": [
    {
     "name": "stdout",
     "output_type": "stream",
     "text": [
      "Original Matrix:\n",
      "[[7. 8. 9.]\n",
      " [4. 5. 6.]\n",
      " [0. 2. 3.]]\n",
      "\n",
      "Permutation Matrix:\n",
      "[[0. 0. 1.]\n",
      " [0. 1. 0.]\n",
      " [1. 0. 0.]]\n"
     ]
    }
   ],
   "source": [
    "import numpy as np\n",
    "\n",
    "# Define your matrix\n",
    "matrix = np.array([[0.0, 2.0, 3.0],\n",
    "                   [4.0, 5.0, 6.0],\n",
    "                   [7.0, 8.0, 9.0]])\n",
    "\n",
    "# Number of rows and columns\n",
    "n = matrix.shape[0]\n",
    "\n",
    "# Initialize permutation matrix\n",
    "P = np.identity(n)\n",
    "\n",
    "for i in range(n):\n",
    "    # Find the row with the maximum absolute value in the current column\n",
    "    max_row = i + np.argmax(np.abs(matrix[i:, i]))\n",
    "    \n",
    "    # Swap the rows in the original matrix and the permutation matrix\n",
    "    matrix[[i, max_row]] = matrix[[max_row, i]]\n",
    "    P[[i, max_row]] = P[[max_row, i]]\n",
    "\n",
    "# Print the original matrix and the permutation matrix\n",
    "print(\"Original Matrix:\")\n",
    "print(matrix)\n",
    "print(\"\\nPermutation Matrix:\")\n",
    "print(P)\n"
   ]
  }
 ],
 "metadata": {
  "kernelspec": {
   "display_name": "Python 3",
   "language": "python",
   "name": "python3"
  },
  "language_info": {
   "codemirror_mode": {
    "name": "ipython",
    "version": 3
   },
   "file_extension": ".py",
   "mimetype": "text/x-python",
   "name": "python",
   "nbconvert_exporter": "python",
   "pygments_lexer": "ipython3",
   "version": "3.11.4"
  },
  "orig_nbformat": 4,
  "vscode": {
   "interpreter": {
    "hash": "aee8b7b246df8f9039afb4144a1f6fd8d2ca17a180786b69acc140d282b71a49"
   }
  }
 },
 "nbformat": 4,
 "nbformat_minor": 2
}
