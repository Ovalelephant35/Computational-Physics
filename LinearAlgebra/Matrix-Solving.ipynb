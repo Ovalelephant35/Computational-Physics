{
 "cells": [
  {
   "cell_type": "code",
   "execution_count": 2,
   "metadata": {},
   "outputs": [
    {
     "name": "stdout",
     "output_type": "stream",
     "text": [
      "Solution:\n",
      "x = -4.57\n",
      "y = 13.71\n",
      "z = -1.05\n"
     ]
    }
   ],
   "source": [
    "import numpy as np\n",
    "\n",
    "# Define the coefficients matrix A\n",
    "A = np.array([[60, 20, 0],\n",
    "              [20, 80, 5],\n",
    "              [0, 5, 65]])\n",
    "\n",
    "# Define the constants vector b\n",
    "b = np.array([0, 1000, 0])\n",
    "\n",
    "# Solve the system of linear equations\n",
    "x = np.linalg.solve(A, b)\n",
    "\n",
    "# Print the solution\n",
    "print(\"Solution:\")\n",
    "print(f\"x = {x[0]:.2f}\")\n",
    "print(f\"y = {x[1]:.2f}\")\n",
    "print(f\"z = {x[2]:.2f}\")\n"
   ]
  }
 ],
 "metadata": {
  "kernelspec": {
   "display_name": "Python 3",
   "language": "python",
   "name": "python3"
  },
  "language_info": {
   "codemirror_mode": {
    "name": "ipython",
    "version": 3
   },
   "file_extension": ".py",
   "mimetype": "text/x-python",
   "name": "python",
   "nbconvert_exporter": "python",
   "pygments_lexer": "ipython3",
   "version": "3.11.4"
  },
  "orig_nbformat": 4,
  "vscode": {
   "interpreter": {
    "hash": "aee8b7b246df8f9039afb4144a1f6fd8d2ca17a180786b69acc140d282b71a49"
   }
  }
 },
 "nbformat": 4,
 "nbformat_minor": 2
}
