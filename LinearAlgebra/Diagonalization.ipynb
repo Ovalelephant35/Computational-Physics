{
 "cells": [
  {
   "cell_type": "code",
   "execution_count": 2,
   "metadata": {},
   "outputs": [
    {
     "name": "stdout",
     "output_type": "stream",
     "text": [
      "Original Matrix A:\n",
      "[[2 1 3]\n",
      " [1 3 5]\n",
      " [2 3 7]]\n",
      "\n",
      "Diagonal Matrix D:\n",
      "[[10.19387514  0.          0.        ]\n",
      " [ 0.          1.3794373   0.        ]\n",
      " [ 0.          0.          0.42668755]]\n",
      "\n",
      "Similarity Matrix P:\n",
      "[[-0.34323612 -0.80212372 -0.42805484]\n",
      " [-0.56775601  0.59625481 -0.76588364]\n",
      " [-0.74822595 -0.03282892  0.47978255]]\n",
      "\n",
      "Verification (A_reconstructed):\n",
      "[[2. 1. 3.]\n",
      " [1. 3. 5.]\n",
      " [2. 3. 7.]]\n"
     ]
    }
   ],
   "source": [
    "import numpy as np\n",
    "\n",
    "# Define the matrix to be diagonalized\n",
    "A = np.array([[2, 1, 3],\n",
    "              [1, 3 ,5] ,\n",
    "              [2, 3, 7]])\n",
    "\n",
    "# Calculate the eigenvalues and eigenvectors\n",
    "eigenvalues, eigenvectors = np.linalg.eig(A)\n",
    "\n",
    "# Diagonalize the matrix\n",
    "D = np.diag(eigenvalues)\n",
    "P = eigenvectors\n",
    "\n",
    "# Verify the diagonalization\n",
    "A_reconstructed = np.dot(np.dot(P, D), np.linalg.inv(P))\n",
    "\n",
    "# Print the original matrix, diagonal matrix, and similarity matrix\n",
    "print(\"Original Matrix A:\")\n",
    "print(A)\n",
    "print(\"\\nDiagonal Matrix D:\")\n",
    "print(D)\n",
    "print(\"\\nSimilarity Matrix P:\")\n",
    "print(P)\n",
    "\n",
    "# Verify the diagonalization\n",
    "print(\"\\nVerification (A_reconstructed):\")\n",
    "print(A_reconstructed)\n"
   ]
  }
 ],
 "metadata": {
  "kernelspec": {
   "display_name": "Python 3",
   "language": "python",
   "name": "python3"
  },
  "language_info": {
   "codemirror_mode": {
    "name": "ipython",
    "version": 3
   },
   "file_extension": ".py",
   "mimetype": "text/x-python",
   "name": "python",
   "nbconvert_exporter": "python",
   "pygments_lexer": "ipython3",
   "version": "3.11.4"
  },
  "orig_nbformat": 4,
  "vscode": {
   "interpreter": {
    "hash": "aee8b7b246df8f9039afb4144a1f6fd8d2ca17a180786b69acc140d282b71a49"
   }
  }
 },
 "nbformat": 4,
 "nbformat_minor": 2
}
