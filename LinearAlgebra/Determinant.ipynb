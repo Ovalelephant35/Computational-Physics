{
 "cells": [
  {
   "attachments": {},
   "cell_type": "markdown",
   "metadata": {},
   "source": [
    "Determinant using py"
   ]
  },
  {
   "cell_type": "code",
   "execution_count": null,
   "metadata": {},
   "outputs": [],
   "source": [
    "import numpy as np\n",
    "\n",
    "# Define your square matrix\n",
    "matrix = np.array([[3, 1, 4],\n",
    "                   [1, 5, 9],\n",
    "                   [2, 6, 5]])\n",
    "\n",
    "# Calculate the determinant\n",
    "determinant = np.linalg.det(matrix)\n",
    "\n",
    "# Print the determinant\n",
    "print(f\"The determinant of the matrix is: {determinant}\")\n"
   ]
  }
 ],
 "metadata": {
  "language_info": {
   "name": "python"
  },
  "orig_nbformat": 4
 },
 "nbformat": 4,
 "nbformat_minor": 2
}
