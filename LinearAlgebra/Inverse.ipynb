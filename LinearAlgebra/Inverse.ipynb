{
 "cells": [
  {
   "attachments": {},
   "cell_type": "markdown",
   "metadata": {},
   "source": [
    "Inverse of Matrix"
   ]
  },
  {
   "cell_type": "code",
   "execution_count": null,
   "metadata": {},
   "outputs": [],
   "source": [
    "import numpy as np\n",
    "\n",
    "# Define your square matrix\n",
    "matrix = np.array([[3, 1, 4],\n",
    "                   [1, 5, 9],\n",
    "                   [2, 6, 5]])\n",
    "\n",
    "# Calculate the inverse of the matrix\n",
    "inverse_matrix = np.linalg.inv(matrix)\n",
    "\n",
    "# Print the inverse matrix\n",
    "print(\"Original Matrix:\")\n",
    "print(matrix)\n",
    "print(\"\\nInverse Matrix:\")\n",
    "print(inverse_matrix)\n"
   ]
  }
 ],
 "metadata": {
  "language_info": {
   "name": "python"
  },
  "orig_nbformat": 4
 },
 "nbformat": 4,
 "nbformat_minor": 2
}
