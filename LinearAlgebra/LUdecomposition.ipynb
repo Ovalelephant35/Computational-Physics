{
 "cells": [
  {
   "cell_type": "code",
   "execution_count": 6,
   "metadata": {},
   "outputs": [
    {
     "name": "stdout",
     "output_type": "stream",
     "text": [
      "Original Matrix:\n",
      "[[ 12.    1.    4. ]\n",
      " [  1.    5.5 400. ]\n",
      " [  7.    6.8   5. ]]\n",
      "\n",
      "P (permutation matrix):\n",
      "[[1. 0. 0.]\n",
      " [0. 0. 1.]\n",
      " [0. 1. 0.]]\n",
      "\n",
      "L (lower triangular matrix):\n",
      "[[1.         0.         0.        ]\n",
      " [0.58333333 1.         0.        ]\n",
      " [0.08333333 0.87131367 1.        ]]\n",
      "\n",
      "U (upper triangular matrix):\n",
      "[[ 12.           1.           4.        ]\n",
      " [  0.           6.21666667   2.66666667]\n",
      " [  0.           0.         397.34316354]]\n",
      "\n",
      "Reconstructed Matrix (P * L * U):\n",
      "[[ 12.    1.    4. ]\n",
      " [  1.    5.5 400. ]\n",
      " [  7.    6.8   5. ]]\n"
     ]
    }
   ],
   "source": [
    "import numpy as np\n",
    "import scipy.linalg as la\n",
    "\n",
    "# Define your matrix\n",
    "matrix = np.array([[12, 1, 4],\n",
    "                   [1, 5.5, 400],\n",
    "                   [7, 6.8, 5]])\n",
    "\n",
    "# Perform LU decomposition\n",
    "P, L, U = la.lu(matrix)\n",
    "\n",
    "# Print the results\n",
    "print(\"Original Matrix:\")\n",
    "print(matrix)\n",
    "print(\"\\nP (permutation matrix):\")\n",
    "print(P)\n",
    "print(\"\\nL (lower triangular matrix):\")\n",
    "print(L)\n",
    "print(\"\\nU (upper triangular matrix):\")\n",
    "print(U)\n",
    "\n",
    "# Reconstruct the original matrix to verify correctness\n",
    "matrix_reconstructed = np.dot(P, np.dot(L, U))\n",
    "print(\"\\nReconstructed Matrix (P * L * U):\")\n",
    "print(matrix_reconstructed)\n"
   ]
  }
 ],
 "metadata": {
  "kernelspec": {
   "display_name": "Python 3",
   "language": "python",
   "name": "python3"
  },
  "language_info": {
   "codemirror_mode": {
    "name": "ipython",
    "version": 3
   },
   "file_extension": ".py",
   "mimetype": "text/x-python",
   "name": "python",
   "nbconvert_exporter": "python",
   "pygments_lexer": "ipython3",
   "version": "3.11.4"
  },
  "orig_nbformat": 4,
  "vscode": {
   "interpreter": {
    "hash": "aee8b7b246df8f9039afb4144a1f6fd8d2ca17a180786b69acc140d282b71a49"
   }
  }
 },
 "nbformat": 4,
 "nbformat_minor": 2
}
