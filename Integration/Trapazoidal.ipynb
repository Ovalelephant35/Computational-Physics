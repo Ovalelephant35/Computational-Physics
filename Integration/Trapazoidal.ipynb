{
 "cells": [
  {
   "attachments": {},
   "cell_type": "markdown",
   "metadata": {},
   "source": [
    "This is a general Integration"
   ]
  },
  {
   "cell_type": "code",
   "execution_count": 10,
   "metadata": {},
   "outputs": [
    {
     "name": "stdout",
     "output_type": "stream",
     "text": [
      "Integral result: 3.141593\n",
      "Estimated error: 6.200938e-10\n"
     ]
    }
   ],
   "source": [
    "import numpy as np\n",
    "import scipy.integrate as spi\n",
    "\n",
    "# Define the function to be integrated\n",
    "def f(x):\n",
    "    return 1 / np.sqrt(1 - x**2)  # Replace this with your own function\n",
    "\n",
    "# Define the integration limits\n",
    "a = -1.0  # Lower limit\n",
    "b = 1.0  # Upper limit\n",
    "\n",
    "# Perform the integration\n",
    "result, error = spi.quad(f, a, b)\n",
    "\n",
    "# Print the result and estimated error\n",
    "print(f\"Integral result: {result:.6f}\")\n",
    "print(f\"Estimated error: {error:.6e}\")\n"
   ]
  },
  {
   "attachments": {},
   "cell_type": "markdown",
   "metadata": {},
   "source": [
    "This is trapazoid Integration"
   ]
  },
  {
   "cell_type": "code",
   "execution_count": 8,
   "metadata": {},
   "outputs": [
    {
     "name": "stdout",
     "output_type": "stream",
     "text": [
      "Integral result: 0.333334\n",
      "Estimated error: 0.666666\n"
     ]
    }
   ],
   "source": [
    "import numpy as np\n",
    "from scipy.integrate import trapz\n",
    "\n",
    "# Define the function to be integrated\n",
    "def f(x):\n",
    "    return x**2\n",
    "\n",
    "# Define the integration limits\n",
    "a = 0.0  # Lower limit\n",
    "b = 1  # Upper limit\n",
    "\n",
    "# Generate x values\n",
    "x_values = np.linspace(a, b, 1000)\n",
    "\n",
    "# Calculate the function values at x_values\n",
    "y_values = f(x_values)\n",
    "\n",
    "# Perform trapezoidal integration\n",
    "result = trapz(y_values, x=x_values)\n",
    "\n",
    "# Calculate the estimated error\n",
    "error = (b - a) * np.max(np.abs(y_values - np.trapz(y_values, x=x_values)))\n",
    "\n",
    "# Print the result and estimated error\n",
    "print(f\"Integral result: {result:.6f}\")\n",
    "print(f\"Estimated error: {error:.6f}\")\n"
   ]
  },
  {
   "attachments": {},
   "cell_type": "markdown",
   "metadata": {},
   "source": [
    "This is Simpson 3/8"
   ]
  },
  {
   "cell_type": "code",
   "execution_count": 7,
   "metadata": {},
   "outputs": [
    {
     "name": "stdout",
     "output_type": "stream",
     "text": [
      "Integration result by Simpson's 3/8 method is: 0.31800000\n"
     ]
    }
   ],
   "source": [
    "\n",
    "# Simpson's 3/8 Rule\n",
    "\n",
    "import numpy as np\n",
    "\n",
    "# Define function to integrate\n",
    "def f(x):\n",
    "    return x**2\n",
    "\n",
    "# Implementing Simpson's 3/8\n",
    "def simpson38(x0,xn,n):\n",
    "    # calculating step size\n",
    "    h = (xn - x0) / n\n",
    "    \n",
    "    # Finding sum \n",
    "    integration = f(x0) + f(xn)\n",
    "    \n",
    "    for i in range(1,n):\n",
    "        k = x0 + i*h\n",
    "        \n",
    "        if i%3 == 0:\n",
    "            integration = integration + 2 * f(k)\n",
    "        else:\n",
    "            integration = integration + 3 * f(k)\n",
    "    \n",
    "    # Finding final integration value\n",
    "    integration = integration * 3 * h / 8\n",
    "    \n",
    "    return integration\n",
    "    \n",
    "# Input section\n",
    "lower_limit = float(input(\"Enter lower limit of integration: \"))\n",
    "upper_limit = float(input(\"Enter upper limit of integration: \"))\n",
    "sub_interval = int(input(\"Enter number of sub intervals: \"))\n",
    "\n",
    "# Call trapezoidal() method and get result\n",
    "result = simpson38(lower_limit, upper_limit, sub_interval)\n",
    "print(\"Integration result by Simpson's 3/8 method is: %0.8f\" % (result) )"
   ]
  }
 ],
 "metadata": {
  "kernelspec": {
   "display_name": "Python 3",
   "language": "python",
   "name": "python3"
  },
  "language_info": {
   "codemirror_mode": {
    "name": "ipython",
    "version": 3
   },
   "file_extension": ".py",
   "mimetype": "text/x-python",
   "name": "python",
   "nbconvert_exporter": "python",
   "pygments_lexer": "ipython3",
   "version": "3.11.4"
  },
  "orig_nbformat": 4,
  "vscode": {
   "interpreter": {
    "hash": "aee8b7b246df8f9039afb4144a1f6fd8d2ca17a180786b69acc140d282b71a49"
   }
  }
 },
 "nbformat": 4,
 "nbformat_minor": 2
}
