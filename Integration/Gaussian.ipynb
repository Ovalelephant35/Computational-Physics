{
 "cells": [
  {
   "cell_type": "code",
   "execution_count": 1,
   "metadata": {},
   "outputs": [
    {
     "name": "stdout",
     "output_type": "stream",
     "text": [
      "Gaussian Quadrature Integral result: 3.107110\n",
      "Estimated error: 6.965869e-04\n"
     ]
    },
    {
     "name": "stderr",
     "output_type": "stream",
     "text": [
      "/Library/Frameworks/Python.framework/Versions/3.11/lib/python3.11/site-packages/scipy/integrate/_quadrature.py:370: AccuracyWarning: maxiter (50) exceeded. Latest difference = 6.965869e-04\n",
      "  warnings.warn(\n"
     ]
    }
   ],
   "source": [
    "import scipy.integrate as spi\n",
    "import numpy as np\n",
    "\n",
    "# Define the function to be integrated\n",
    "def f(x):\n",
    "    return 1 / np.sqrt(1 - x**2)\n",
    "\n",
    "# Define the integration limits\n",
    "a = -1.0  # Lower limit\n",
    "b = 1.0   # Upper limit\n",
    "\n",
    "# Perform Gaussian quadrature integration\n",
    "result, error = spi.quadrature(f, a, b)\n",
    "\n",
    "# Print the integral result and estimated error\n",
    "print(f\"Gaussian Quadrature Integral result: {result:.6f}\")\n",
    "print(f\"Estimated error: {error:.6e}\")\n"
   ]
  },
  {
   "cell_type": "code",
   "execution_count": 3,
   "metadata": {},
   "outputs": [
    {
     "name": "stdout",
     "output_type": "stream",
     "text": [
      "Error: 2.1234168394155574e-06\n",
      "57.81112750545707\n",
      "Result: 36323.80269337735\n"
     ]
    }
   ],
   "source": [
    "import numpy as np\n",
    "from scipy import integrate\n",
    "import math\n",
    "# Define the function to be integrated\n",
    "def integrand(z1, z2, theta):\n",
    "    return np.cos(theta) / np.sqrt((z2 - z1)**2 + 4*np.sin(theta/2)**2)\n",
    "\n",
    "# Perform the triple integration using scipy.integrate.tplquad\n",
    "result, error = integrate.tplquad(\n",
    "    integrand,                      # Function to be integrated\n",
    "    0, 2*np.pi,                     # Limits of theta\n",
    "    lambda theta: 0, lambda theta: 10,   # Limits of z1\n",
    "    lambda theta, z1: 0, lambda theta, z1: 10    # Limits of z2\n",
    ")\n",
    "\n",
    "print(\"Error:\", error)\n",
    "print(result)\n",
    "final = 200 * math.pi * result\n",
    "print(\"Result:\", final)\n"
   ]
  },
  {
   "cell_type": "code",
   "execution_count": null,
   "metadata": {},
   "outputs": [],
   "source": [
    "import numpy as np\n",
    "from scipy.integrate import fixed_quad\n",
    "\n",
    "def integrand(theta, z1, z2):\n",
    "    costheta = np.cos(theta)\n",
    "    sintheta = np.sin(theta / 2)\n",
    "    numerator = costheta\n",
    "    denominator = ((z2 - z1) ** 2 + 4 * (sintheta) ** 2) ** 0.5\n",
    "    return numerator / denominator\n",
    "\n",
    "# Define the limits of integration\n",
    "theta_lower, theta_upper = 0.5, np.pi/3\n",
    "z1_lower, z1_upper = 1.1, 1.5\n",
    "z2_lower, z2_upper = 2.2 ,3\n",
    "\n",
    "# Set the number of quadrature points\n",
    "n_theta = 30\n",
    "n_z1 = 30\n",
    "n_z2 = 30\n",
    "\n",
    "# Perform the triple integration using Gaussian quadrature\n",
    "result, error = fixed_quad(lambda z2: fixed_quad(lambda z1: fixed_quad(lambda theta: integrand(theta, z1, z2), theta_lower, theta_upper, n=n_theta)[0], z1_lower, z1_upper, n=n_z1)[0], z2_lower, z2_upper, n=n_z2)\n",
    "\n",
    "print(\"The result of the triple integration using Gaussian quadrature is:\", result*200*np.pi)"
   ]
  }
 ],
 "metadata": {
  "kernelspec": {
   "display_name": "Python 3",
   "language": "python",
   "name": "python3"
  },
  "language_info": {
   "codemirror_mode": {
    "name": "ipython",
    "version": 3
   },
   "file_extension": ".py",
   "mimetype": "text/x-python",
   "name": "python",
   "nbconvert_exporter": "python",
   "pygments_lexer": "ipython3",
   "version": "3.11.4 (v3.11.4:d2340ef257, Jun  6 2023, 19:15:51) [Clang 13.0.0 (clang-1300.0.29.30)]"
  },
  "orig_nbformat": 4,
  "vscode": {
   "interpreter": {
    "hash": "aee8b7b246df8f9039afb4144a1f6fd8d2ca17a180786b69acc140d282b71a49"
   }
  }
 },
 "nbformat": 4,
 "nbformat_minor": 2
}
