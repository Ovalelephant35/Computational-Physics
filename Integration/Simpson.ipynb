{
 "cells": [
  {
   "attachments": {},
   "cell_type": "markdown",
   "metadata": {},
   "source": [
    "This is Simpson Integration"
   ]
  },
  {
   "cell_type": "code",
   "execution_count": 11,
   "metadata": {},
   "outputs": [
    {
     "name": "stdout",
     "output_type": "stream",
     "text": [
      "Simpson's Rule Integral result: 0.126213\n"
     ]
    }
   ],
   "source": [
    "import numpy as np\n",
    "import scipy.integrate as spi\n",
    "\n",
    "# Define the function to be integrated\n",
    "def f(x):\n",
    "    return x**3 * (np.exp(-x**2))  # Replace this with your own function\n",
    "\n",
    "# Define the integration limits\n",
    "a = 0.0  # Lower limit\n",
    "b = 1.0  # Upper limit\n",
    "\n",
    "# Generate x values for the integration\n",
    "x_values = [a, (a + b) / 2, b]\n",
    "\n",
    "# Calculate the corresponding function values\n",
    "y_values = [f(x) for x in x_values]\n",
    "\n",
    "# Perform Simpson's rule integration\n",
    "result = spi.simps(y_values, x_values)\n",
    "\n",
    "# Print the integral result\n",
    "print(f\"Simpson's Rule Integral result: {result:.6f}\")"
   ]
  }
 ],
 "metadata": {
  "kernelspec": {
   "display_name": "Python 3",
   "language": "python",
   "name": "python3"
  },
  "language_info": {
   "codemirror_mode": {
    "name": "ipython",
    "version": 3
   },
   "file_extension": ".py",
   "mimetype": "text/x-python",
   "name": "python",
   "nbconvert_exporter": "python",
   "pygments_lexer": "ipython3",
   "version": "3.11.4"
  },
  "orig_nbformat": 4,
  "vscode": {
   "interpreter": {
    "hash": "aee8b7b246df8f9039afb4144a1f6fd8d2ca17a180786b69acc140d282b71a49"
   }
  }
 },
 "nbformat": 4,
 "nbformat_minor": 2
}
