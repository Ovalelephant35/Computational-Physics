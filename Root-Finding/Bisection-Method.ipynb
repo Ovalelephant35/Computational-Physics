{
 "cells": [
  {
   "attachments": {},
   "cell_type": "markdown",
   "metadata": {},
   "source": [
    "Above is the root finding using bisection method it is almost accurate."
   ]
  },
  {
   "cell_type": "code",
   "execution_count": 24,
   "metadata": {},
   "outputs": [
    {
     "name": "stdout",
     "output_type": "stream",
     "text": [
      "Root found at x = -2.0000000000002656\n"
     ]
    }
   ],
   "source": [
    "import numpy as np\n",
    "from scipy.optimize import bisect\n",
    "\n",
    "def f(x):\n",
    "    return x**2 - 4\n",
    "\n",
    "a = -1000000.0\n",
    "b = 0\n",
    "\n",
    "root = bisect(f, a, b)\n",
    "\n",
    "print(f\"Root found at x = {root}\")"
   ]
  },
  {
   "cell_type": "code",
   "execution_count": null,
   "metadata": {},
   "outputs": [],
   "source": []
  }
 ],
 "metadata": {
  "kernelspec": {
   "display_name": "Python 3",
   "language": "python",
   "name": "python3"
  },
  "language_info": {
   "codemirror_mode": {
    "name": "ipython",
    "version": 3
   },
   "file_extension": ".py",
   "mimetype": "text/x-python",
   "name": "python",
   "nbconvert_exporter": "python",
   "pygments_lexer": "ipython3",
   "version": "3.11.4"
  },
  "orig_nbformat": 4,
  "vscode": {
   "interpreter": {
    "hash": "aee8b7b246df8f9039afb4144a1f6fd8d2ca17a180786b69acc140d282b71a49"
   }
  }
 },
 "nbformat": 4,
 "nbformat_minor": 2
}
