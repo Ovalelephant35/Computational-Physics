{
 "cells": [
  {
   "attachments": {},
   "cell_type": "markdown",
   "metadata": {},
   "source": [
    "This is newton-Raphson method for finding roots"
   ]
  },
  {
   "cell_type": "code",
   "execution_count": 2,
   "metadata": {},
   "outputs": [
    {
     "name": "stdout",
     "output_type": "stream",
     "text": [
      "Root found at x = 0.9999999999999999\n"
     ]
    }
   ],
   "source": [
    "import numpy as np\n",
    "from scipy.optimize import newton\n",
    "\n",
    "# Define the function f(x) and its derivative f_prime(x)\n",
    "def f(x):\n",
    "    return x**3 - 6*x**2 + 11*x - 6\n",
    "\n",
    "def f_prime(x):\n",
    "    return 3*x**2 - 12*x + 11\n",
    "\n",
    "# Use newton to find the root of f(x) = 0\n",
    "initial_guess = 0\n",
    "root = newton(f, initial_guess, fprime=f_prime)\n",
    "\n",
    "print(f\"Root found at x = {root}\")\n"
   ]
  },
  {
   "attachments": {},
   "cell_type": "markdown",
   "metadata": {},
   "source": [
    "This is newton method for trignometric fucntions"
   ]
  },
  {
   "cell_type": "code",
   "execution_count": 13,
   "metadata": {},
   "outputs": [
    {
     "name": "stdout",
     "output_type": "stream",
     "text": [
      "Root found at x = 0.7390851332151607\n"
     ]
    }
   ],
   "source": [
    "import numpy as np\n",
    "from scipy.optimize import newton\n",
    "\n",
    "# Define the trigonometric function f(x) and its derivative f_prime(x)\n",
    "def f(x):\n",
    "    return - np.cos(x) + x\n",
    "\n",
    "def f_prime(x):\n",
    "    return np.sin(x) + 1\n",
    "\n",
    "# Use newton to find the root of f(x) = 0\n",
    "initial_guess = 0.5  # Initial guess for the root\n",
    "root = newton(f, initial_guess , fprime=f_prime)\n",
    "\n",
    "print(f\"Root found at x = {root}\")\n"
   ]
  },
  {
   "attachments": {},
   "cell_type": "markdown",
   "metadata": {},
   "source": [
    "This is for multiple equations"
   ]
  },
  {
   "cell_type": "code",
   "execution_count": 21,
   "metadata": {},
   "outputs": [
    {
     "name": "stdout",
     "output_type": "stream",
     "text": [
      "Solution: x = -2.4494897454950677, y = -1.000000011731937\n"
     ]
    }
   ],
   "source": [
    "import numpy as np\n",
    "from scipy.optimize import newton_krylov\n",
    "\n",
    "# Define a function that represents the system of equations\n",
    "def equations(vars):\n",
    "    x, y = vars\n",
    "    eq1 = x**2 + y - 5\n",
    "    eq2 = x**2 + y**2 -7\n",
    "    return [eq1, eq2]\n",
    "\n",
    "# Initial guess for the solution\n",
    "initial_guess = [-80, -80]\n",
    "\n",
    "# Use the newton_krylov function to find the solution\n",
    "solution = newton_krylov(equations, initial_guess)\n",
    "\n",
    "# Extract the solution\n",
    "x, y = solution\n",
    "\n",
    "print(f\"Solution: x = {x}, y = {y}\")\n"
   ]
  },
  {
   "cell_type": "code",
   "execution_count": 44,
   "metadata": {},
   "outputs": [
    {
     "name": "stdout",
     "output_type": "stream",
     "text": [
      "Root found at x = 2.000000\n"
     ]
    }
   ],
   "source": [
    "from scipy.optimize import newton\n",
    "\n",
    "# Define the function for which you want to find the root\n",
    "def f(x):\n",
    "    return x**2 - 4\n",
    "\n",
    "# Initial guess\n",
    "x0 = 2\n",
    "\n",
    "# Find the root using the Newton-Secant method (implemented by SciPy)\n",
    "root = newton(f, x0, x1=0, tol=1e-6, maxiter=100)\n",
    "\n",
    "print(f\"Root found at x = {root:.6f}\")\n",
    "\n"
   ]
  }
 ],
 "metadata": {
  "kernelspec": {
   "display_name": "Python 3",
   "language": "python",
   "name": "python3"
  },
  "language_info": {
   "codemirror_mode": {
    "name": "ipython",
    "version": 3
   },
   "file_extension": ".py",
   "mimetype": "text/x-python",
   "name": "python",
   "nbconvert_exporter": "python",
   "pygments_lexer": "ipython3",
   "version": "3.11.4 (v3.11.4:d2340ef257, Jun  6 2023, 19:15:51) [Clang 13.0.0 (clang-1300.0.29.30)]"
  },
  "orig_nbformat": 4,
  "vscode": {
   "interpreter": {
    "hash": "aee8b7b246df8f9039afb4144a1f6fd8d2ca17a180786b69acc140d282b71a49"
   }
  }
 },
 "nbformat": 4,
 "nbformat_minor": 2
}
