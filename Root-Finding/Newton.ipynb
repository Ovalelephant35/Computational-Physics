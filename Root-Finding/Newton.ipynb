{
 "cells": [
  {
   "cell_type": "code",
   "execution_count": 2,
   "metadata": {},
   "outputs": [
    {
     "name": "stdout",
     "output_type": "stream",
     "text": [
      "Root found at x = 0.9999999999999999\n"
     ]
    }
   ],
   "source": [
    "import numpy as np\n",
    "from scipy.optimize import newton\n",
    "\n",
    "# Define the function f(x) and its derivative f_prime(x)\n",
    "def f(x):\n",
    "    return x**3 - 6*x**2 + 11*x - 6\n",
    "\n",
    "def f_prime(x):\n",
    "    return 3*x**2 - 12*x + 11\n",
    "\n",
    "# Use newton to find the root of f(x) = 0\n",
    "initial_guess = 0\n",
    "root = newton(f, initial_guess, fprime=f_prime)\n",
    "\n",
    "print(f\"Root found at x = {root}\")\n"
   ]
  },
  {
   "cell_type": "code",
   "execution_count": 13,
   "metadata": {},
   "outputs": [
    {
     "name": "stdout",
     "output_type": "stream",
     "text": [
      "Root found at x = 0.7390851332151607\n"
     ]
    }
   ],
   "source": [
    "import numpy as np\n",
    "from scipy.optimize import newton\n",
    "\n",
    "# Define the trigonometric function f(x) and its derivative f_prime(x)\n",
    "def f(x):\n",
    "    return - np.cos(x) + x\n",
    "\n",
    "def f_prime(x):\n",
    "    return np.sin(x) + 1\n",
    "\n",
    "# Use newton to find the root of f(x) = 0\n",
    "initial_guess = 0.5  # Initial guess for the root\n",
    "root = newton(f, initial_guess , fprime=f_prime)\n",
    "\n",
    "print(f\"Root found at x = {root}\")\n"
   ]
  },
  {
   "cell_type": "code",
   "execution_count": null,
   "metadata": {},
   "outputs": [],
   "source": []
  }
 ],
 "metadata": {
  "kernelspec": {
   "display_name": "Python 3",
   "language": "python",
   "name": "python3"
  },
  "language_info": {
   "codemirror_mode": {
    "name": "ipython",
    "version": 3
   },
   "file_extension": ".py",
   "mimetype": "text/x-python",
   "name": "python",
   "nbconvert_exporter": "python",
   "pygments_lexer": "ipython3",
   "version": "3.11.4"
  },
  "orig_nbformat": 4,
  "vscode": {
   "interpreter": {
    "hash": "aee8b7b246df8f9039afb4144a1f6fd8d2ca17a180786b69acc140d282b71a49"
   }
  }
 },
 "nbformat": 4,
 "nbformat_minor": 2
}
