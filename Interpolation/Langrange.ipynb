{
 "cells": [
  {
   "attachments": {},
   "cell_type": "markdown",
   "metadata": {},
   "source": [
    "Langragian interpolation Method"
   ]
  },
  {
   "cell_type": "code",
   "execution_count": 1,
   "metadata": {},
   "outputs": [
    {
     "name": "stdout",
     "output_type": "stream",
     "text": [
      "Interpolated value at x = 2.5 is y = 6.2500\n",
      "            3     2\n",
      "-4.441e-16 x + 1 x - 3.553e-15 x\n"
     ]
    }
   ],
   "source": [
    "from scipy.interpolate import lagrange\n",
    "\n",
    "# Sample data points\n",
    "x_data = [1.0, 2.0, 3.0, 4.0]\n",
    "y_data = [1.0, 4.0, 9.0, 16.0]\n",
    "\n",
    "# Create the Lagrange interpolating polynomial\n",
    "poly = lagrange(x_data, y_data)\n",
    "\n",
    "# Point at which you want to find the interpolated value\n",
    "x_interpolation = 2.5\n",
    "\n",
    "# Calculate the interpolated value\n",
    "interpolated_value = poly(x_interpolation)\n",
    "\n",
    "print(f\"Interpolated value at x = {x_interpolation} is y = {interpolated_value:.4f}\")\n",
    "print(poly)"
   ]
  }
 ],
 "metadata": {
  "kernelspec": {
   "display_name": "Python 3",
   "language": "python",
   "name": "python3"
  },
  "language_info": {
   "codemirror_mode": {
    "name": "ipython",
    "version": 3
   },
   "file_extension": ".py",
   "mimetype": "text/x-python",
   "name": "python",
   "nbconvert_exporter": "python",
   "pygments_lexer": "ipython3",
   "version": "3.11.4"
  },
  "orig_nbformat": 4,
  "vscode": {
   "interpreter": {
    "hash": "aee8b7b246df8f9039afb4144a1f6fd8d2ca17a180786b69acc140d282b71a49"
   }
  }
 },
 "nbformat": 4,
 "nbformat_minor": 2
}
